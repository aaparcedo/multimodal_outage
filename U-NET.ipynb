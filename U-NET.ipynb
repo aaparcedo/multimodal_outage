{
 "cells": [
  {
   "cell_type": "code",
   "execution_count": null,
   "metadata": {},
   "outputs": [],
   "source": [
    "import torch\n",
    "import torch.nn as nn\n",
    "import torch.nn.functional as F\n",
    "import torchvision\n",
    "import torchvision.transforms as transforms\n",
    "import matplotlib.pyplot as plt\n",
    "from PIL import Image\n",
    "import numpy as np"
   ]
  },
  {
   "cell_type": "markdown",
   "metadata": {},
   "source": [
    "Importing Data"
   ]
  },
  {
   "cell_type": "code",
   "execution_count": 9,
   "metadata": {},
   "outputs": [
    {
     "data": {
      "text/plain": [
       "torch.Size([3, 572, 572])"
      ]
     },
     "execution_count": 9,
     "metadata": {},
     "output_type": "execute_result"
    }
   ],
   "source": [
    "image = Image.open('test_image.jpeg')\n",
    "transform = transforms.Compose([\n",
    "    transforms.Resize((572, 572)),\n",
    "    transforms.ToTensor()])\n",
    "image = transform(image)\n",
    "image.shape"
   ]
  },
  {
   "cell_type": "markdown",
   "metadata": {},
   "source": [
    "UNET Model"
   ]
  },
  {
   "cell_type": "code",
   "execution_count": 14,
   "metadata": {},
   "outputs": [],
   "source": [
    "class UNET(nn.Module): \n",
    "    def __init__(self): \n",
    "        super().__init__()\n",
    "        \n",
    "        self.feature_map_1  = []\n",
    "        self.feature_map_2  = []\n",
    "        self.feature_map_3  = []\n",
    "        self.feature_map_4  = []\n",
    "        \n",
    "    def crop(self, input, initial_size, desired_size):\n",
    "        \n",
    "        start = (initial_size - desired_size) // 2\n",
    "        end = start + desired_size\n",
    "        \n",
    "        cropped_tensor = input[:, start:end, start:end]\n",
    "        \n",
    "        return cropped_tensor\n",
    "    \n",
    "    def contraction_block(self, input, input_channel, output_channel): \n",
    "        \n",
    "        block = nn.Sequential(\n",
    "            nn.Conv2d(input_channel,  output_channel, 3),\n",
    "            nn.ReLU(),\n",
    "            nn.Conv2d(output_channel, output_channel, 3), \n",
    "            nn.ReLU(),\n",
    "            nn.MaxPool2d(2, 2)\n",
    "        )\n",
    "        \n",
    "        return block(input)    \n",
    "        \n",
    "    def contraction_pass(self, input): \n",
    "        \n",
    "        self.feature_map_1 = self.contraction_block(input, 3, 64)\n",
    "        self.feature_map_2 = self.contraction_block(self.feature_map_1, 64, 128)\n",
    "        self.feature_map_3 = self.contraction_block(self.feature_map_2, 128, 256)\n",
    "        self.feature_map_4 = self.contraction_block(self.feature_map_3, 256, 512)\n",
    "        result = self.contraction_block(self.feature_map_4, 512, 1024)\n",
    "\n",
    "        return result\n",
    "    \n",
    "    def expansion_block(self, input, feature_map, input_channel, output_channel):\n",
    "        \n",
    "        block = nn.Sequential(\n",
    "            nn.Conv2d(input_channel, output_channel, 3),\n",
    "            nn.ReLU(),\n",
    "            nn.Conv2d(output_channel, output_channel, 3),\n",
    "            nn.ReLU(),\n",
    "        )\n",
    "        \n",
    "        upscale_layer = nn.ConvTranspose2d(input_channel, output_channel, 2, 2)\n",
    "        upscale_input = upscale_layer(input)\n",
    "        cropped_feature_map = self.crop(feature_map, feature_map.shape[1], upscale_input.shape[1])\n",
    "        concat = F.relu(torch.cat((cropped_feature_map, upscale_input), dim=0))\n",
    "        result = block(concat)\n",
    "\n",
    "        return result\n",
    "\n",
    "    def expansion_pass(self, input): \n",
    "        \n",
    "        upscale_1 = self.expansion_block(input, self.feature_map_4, 1024, 512)\n",
    "        upscale_2 = self.expansion_block(upscale_1, self.feature_map_3, 512, 256)\n",
    "        upscale_3 = self.expansion_block(upscale_2, self.feature_map_2, 256, 128)\n",
    "        upscale_4 = self.expansion_block(upscale_3, self.feature_map_1, 128, 64)\n",
    "        \n",
    "        output_segmentation_map_layer = nn.Conv2d(64, 2, 1)\n",
    "        output_segmentation_map = output_segmentation_map_layer(upscale_4)\n",
    "        \n",
    "        return output_segmentation_map\n",
    "    \n",
    "    def forward(self, input): \n",
    "        contraction_result = self.contraction_pass(input)\n",
    "        expansion_result = self.expansion_pass(contraction_result)\n",
    "        \n",
    "        \n",
    "        return expansion_result\n",
    "\n",
    "model = UNET()"
   ]
  },
  {
   "cell_type": "markdown",
   "metadata": {},
   "source": [
    "Training Split"
   ]
  },
  {
   "cell_type": "code",
   "execution_count": 15,
   "metadata": {},
   "outputs": [
    {
     "name": "stdout",
     "output_type": "stream",
     "text": [
      "torch.Size([1024, 14, 14])\n"
     ]
    },
    {
     "data": {
      "text/plain": [
       "torch.Size([2, 164, 164])"
      ]
     },
     "execution_count": 15,
     "metadata": {},
     "output_type": "execute_result"
    }
   ],
   "source": [
    "result = model(image)\n",
    "result.shape"
   ]
  },
  {
   "cell_type": "markdown",
   "metadata": {},
   "source": [
    "Test Split: What is my output going to look like? "
   ]
  },
  {
   "cell_type": "code",
   "execution_count": null,
   "metadata": {},
   "outputs": [],
   "source": []
  }
 ],
 "metadata": {
  "kernelspec": {
   "display_name": "venv",
   "language": "python",
   "name": "python3"
  },
  "language_info": {
   "codemirror_mode": {
    "name": "ipython",
    "version": 3
   },
   "file_extension": ".py",
   "mimetype": "text/x-python",
   "name": "python",
   "nbconvert_exporter": "python",
   "pygments_lexer": "ipython3",
   "version": "3.11.8"
  }
 },
 "nbformat": 4,
 "nbformat_minor": 2
}
