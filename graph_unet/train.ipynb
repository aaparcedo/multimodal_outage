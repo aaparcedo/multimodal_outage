{
 "cells": [
  {
   "cell_type": "code",
   "execution_count": 3,
   "metadata": {
    "metadata": {}
   },
   "outputs": [],
   "source": [
    "import torch\n",
    "import torch.nn as nn\n",
    "import torch.optim as optim\n",
    "from torch.utils.data import DataLoader\n",
    "import torchvision.transforms as transforms\n",
    "from torchvision.datasets import YourDatasetClass\n",
    "from U_NET import UNet\n",
    "from model import Encoder\n",
    "\n",
    "transform = transforms.Compose([\n",
    "    transforms.Grayscale(num_output_channels=1),\n",
    "    transforms.Resize((572, 572)),\n",
    "    transforms.ToTensor()])\n",
    "\n",
    "dataset = YourDatasetClass(transform=transform)\n",
    "dataloader = DataLoader(dataset, batch_size=1, shuffle=True)\n",
    "\n",
    "unet_model = UNet(in_channels=1, out_channels=1)\n",
    "encoder_model = Encoder()\n",
    "\n",
    "# loss function and optimizer\n",
    "criterion = nn.CrossEntropyLoss()\n",
    "optimizer = optim.Adam(list(unet_model.parameters()) + list(encoder_model.parameters()), lr=0.001)\n",
    "\n",
    "# Training loop\n",
    "num_epochs = 10\n",
    "for epoch in range(num_epochs):\n",
    "    running_loss = 0.0\n",
    "    for images, labels in dataloader:\n",
    "        optimizer.zero_grad()\n",
    "\n",
    "        # Forward pass through U-Net\n",
    "        unet_outputs = unet_model(images)\n",
    "        \n",
    "        # Forward pass through Encoder\n",
    "        flattened_outputs = unet_outputs.view(unet_outputs.size(0), -1)\n",
    "        encoder_outputs = encoder_model(flattened_outputs)\n",
    "        \n",
    "        loss = criterion(encoder_outputs, labels)\n",
    "        \n",
    "        # Backward pass and optimize\n",
    "        loss.backward()\n",
    "        optimizer.step()\n",
    "\n",
    "        running_loss += loss.item()\n",
    "\n",
    "    print(f\"Epoch {epoch+1}, Loss: {running_loss/len(dataloader)}\")\n",
    "\n",
    "# Save your trained models if needed\n",
    "torch.save(unet_model.state_dict(), 'unet_model.pth')\n",
    "torch.save(encoder_model.state_dict(), 'encoder_model.pth')\n"
   ]
  }
 ],
 "metadata": {
  "kernelspec": {
   "display_name": "wavenet",
   "language": "python",
   "name": "python3"
  },
  "language_info": {
   "codemirror_mode": {
    "name": "ipython",
    "version": 3
   },
   "file_extension": ".py",
   "mimetype": "text/x-python",
   "name": "python",
   "nbconvert_exporter": "python",
   "pygments_lexer": "ipython3",
   "version": "3.12.2"
  }
 },
 "nbformat": 4,
 "nbformat_minor": 2
}
